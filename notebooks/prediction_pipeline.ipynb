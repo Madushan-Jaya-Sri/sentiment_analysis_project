{
 "cells": [
  {
   "cell_type": "code",
   "execution_count": 1,
   "id": "a4a5bea0-8972-4803-bc83-98c76a62f7fc",
   "metadata": {},
   "outputs": [],
   "source": [
    "import pandas as pd\n",
    "import numpy as np\n",
    "import re\n",
    "import string\n",
    "import pickle\n",
    "import emoji"
   ]
  },
  {
   "cell_type": "code",
   "execution_count": 2,
   "id": "0b03c6f9-dbd4-4ba7-84a5-31b71644587b",
   "metadata": {},
   "outputs": [],
   "source": [
    "def remove_punctuations(text):\n",
    "    for punctuation in string.punctuation:\n",
    "        text = text.replace(punctuation, '')\n",
    "    return text\n",
    "\n",
    "\n",
    "def convert_emojis_to_words(text): \n",
    "    # Convert emojis to words using emoji.demojize\n",
    "    text_with_emojis_as_words = emoji.demojize(text, delimiters=(' ', ' '))\n",
    "\n",
    "    return text_with_emojis_as_words"
   ]
  },
  {
   "cell_type": "code",
   "execution_count": 3,
   "id": "f074b233-3a6d-4393-9b42-a6672e39cb89",
   "metadata": {},
   "outputs": [],
   "source": [
    "with open('../static/model/model.pickle', 'rb') as f:\n",
    "    model = pickle.load(f)\n",
    "with open('../static/model/corpora/stopwords/english', 'r') as file:\n",
    "    sw = file.read().splitlines()\n",
    "vocab = pd.read_csv('../static/model/vocabulary.txt', header=None)\n",
    "tokens = vocab[0].tolist()"
   ]
  },
  {
   "cell_type": "code",
   "execution_count": 4,
   "id": "ee368a5a-08d5-42c2-b913-afcc905e0f21",
   "metadata": {},
   "outputs": [],
   "source": [
    "from nltk.stem import PorterStemmer\n",
    "ps = PorterStemmer()\n",
    "def preprocessing(sentences):\n",
    "    preprocessed_sentences = []\n",
    "\n",
    "    for text in sentences:\n",
    "        data = pd.DataFrame([text], columns=['Full_text'])\n",
    "        data[\"Full_text\"] = data[\"Full_text\"].apply(lambda x: \" \".join(x.lower() for x in x.split()))\n",
    "        data[\"Full_text\"] = data['Full_text'].apply(lambda x: \" \".join(re.sub(r'^https?:\\/\\/.*[\\r\\n]*', '', x, flags=re.MULTILINE) for x in x.split()))\n",
    "        data['Full_text'] = data['Full_text'].apply(convert_emojis_to_words)\n",
    "        data[\"Full_text\"] = data[\"Full_text\"].apply(remove_punctuations)\n",
    "        data[\"Full_text\"] = data['Full_text'].str.replace('\\d+', '', regex=True)\n",
    "        data[\"Full_text\"] = data[\"Full_text\"].apply(lambda x: \" \".join(x for x in x.split() if x not in sw))\n",
    "        data[\"Full_text\"] = data[\"Full_text\"].apply(lambda x: \" \".join(ps.stem(x) for x in x.split()))\n",
    "        preprocessed_sentences.append(data[\"Full_text\"].iloc[0])\n",
    "\n",
    "    return preprocessed_sentences\n",
    "def vectorizer(ds, vocabulary):\n",
    "    vectorized_lst = []\n",
    "    \n",
    "    for sentence in ds:\n",
    "        sentence_lst = np.zeros(len(vocabulary))\n",
    "        \n",
    "        for i in range(len(vocabulary)):\n",
    "            if vocabulary[i] in sentence.split():\n",
    "                sentence_lst[i] = 1\n",
    "                \n",
    "        vectorized_lst.append(sentence_lst)\n",
    "        \n",
    "    vectorized_lst_new = np.asarray(vectorized_lst, dtype=np.float32)\n",
    "    \n",
    "    return vectorized_lst_new\n",
    "def get_prediction(vectorized_text):\n",
    "    vectorized_text = vectorized_text.reshape(1, -1)\n",
    "    prediction = model.predict(vectorized_text)\n",
    "    if prediction == 1:\n",
    "        return 'positive'\n",
    "    else:\n",
    "        return 'negative'\n"
   ]
  },
  {
   "cell_type": "code",
   "execution_count": 5,
   "id": "719e0b75-ecd0-4b5c-8a37-2e26fc37af81",
   "metadata": {},
   "outputs": [
    {
     "name": "stdout",
     "output_type": "stream",
     "text": [
      "                        Sentence Sentiment\n",
      "0                amazing product  positive\n",
      "1  not expected with the quality  negative\n",
      "2               great experience  positive\n"
     ]
    }
   ],
   "source": [
    "\n",
    "sentences = ['amazing product', 'not expected with the quality', 'great experience']\n",
    "preprocessed_sentences = preprocessing(sentences)\n",
    "\n",
    "vectorized_sentences = vectorizer(preprocessed_sentences, tokens)\n",
    "\n",
    "predictions = [get_prediction(vectorized_sentence) for vectorized_sentence in vectorized_sentences]\n",
    "\n",
    "# Create a DataFrame\n",
    "output_df = pd.DataFrame({'Sentence': sentences, 'Sentiment': predictions})\n",
    "\n",
    "# Print the DataFrame\n",
    "print(output_df)"
   ]
  },
  {
   "cell_type": "code",
   "execution_count": null,
   "id": "0653e078-4736-4f39-80bf-30005534e0b7",
   "metadata": {},
   "outputs": [],
   "source": [
    "\n"
   ]
  },
  {
   "cell_type": "code",
   "execution_count": null,
   "id": "3f2df363-0a46-4a6c-9da3-299cbd957a53",
   "metadata": {},
   "outputs": [],
   "source": []
  }
 ],
 "metadata": {
  "kernelspec": {
   "display_name": "Python 3 (ipykernel)",
   "language": "python",
   "name": "python3"
  },
  "language_info": {
   "codemirror_mode": {
    "name": "ipython",
    "version": 3
   },
   "file_extension": ".py",
   "mimetype": "text/x-python",
   "name": "python",
   "nbconvert_exporter": "python",
   "pygments_lexer": "ipython3",
   "version": "3.11.4"
  }
 },
 "nbformat": 4,
 "nbformat_minor": 5
}
